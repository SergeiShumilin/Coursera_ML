{
 "cells": [
  {
   "cell_type": "code",
   "execution_count": 29,
   "metadata": {
    "collapsed": true
   },
   "outputs": [
    {
     "name": "stdout",
     "output_type": "stream",
     "text": [
      "in comparison to dogs, cats have not undergone major changes during the domestication process.\nas cat simply catenates streams of bytes, it can be also used to concatenate binary files, where it will just concatenate sequence of bytes.\na common interactive use of cat for a single file is to output the content of a file to standard output.\ncats can hear sounds too faint or too high in frequency for human ears, such as those made by mice and other small animals.\nin one, people deliberately tamed cats in a process of artificial selection, as they were useful predators of vermin.\nthe domesticated cat and its closest wild ancestor are both diploid organisms that possess 38 chromosomes and roughly 20,000 genes.\ndomestic cats are similar in size to the other members of the genus felis, typically weighing between 4 and 5 kg (8.8 and 11.0 lb).\nhowever, if the output is piped or redirected, cat is unnecessary.\ncat with one named file is safer where human error is a concern - one wrong use of the default redirection symbol \">\" instead of \"<\" (often adjacent on keyboards) may permanently delete the file you were just needing to read.\nin terms of legibility, a sequence of commands starting with cat and connected by pipes has a clear left-to-right flow of information.\ncat command is one of the basic commands that you learned when you started in the unix / linux world.\nusing cat command, the lines received from stdin can be redirected to a new file using redirection symbols.\nwhen you type simply cat command without any arguments, it just receives the stdin content and displays it in the stdout.\nleopard was released on october 26, 2007 as the successor of tiger (version 10.4), and is available in two editions.\naccording to apple, leopard contains over 300 changes and enhancements over its predecessor, mac os x tiger.\nas of mid 2010, some apple computers have firmware factory installed which will no longer allow installation of mac os x leopard.\nsince apple moved to using intel processors in their computers, the osx86 community has developed and now also allows mac os x tiger and later releases to be installed on non-apple x86-based computers.\nos x mountain lion was released on july 25, 2012 for purchase and download through apple's mac app store, as part of a switch to releasing os x versions online and every year.\napple has released a small patch for the three most recent versions of safari running on os x yosemite, mavericks, and mountain lion.\nthe mountain lion release marks the second time apple has offered an incremental upgrade, rather than releasing a new cat entirely.\nmac os x mountain lion installs in place, so you won't need to create a separate disk or run the installation off an external drive.\nthe fifth major update to mac os x, leopard, contains such a mountain of features - more than 300 by apple's count.\n\n"
     ]
    }
   ],
   "source": [
    "f = open('catsentances.txt')\n",
    "sents = f.read().lower()\n",
    "print(sents)"
   ]
  },
  {
   "cell_type": "code",
   "execution_count": 10,
   "metadata": {},
   "outputs": [
    {
     "name": "stdout",
     "output_type": "stream",
     "text": [
      "['in', 'comparison', 'to', 'dogs', 'cats', 'have', 'not', 'undergone', 'major', 'changes', 'during', 'the', 'domestication', 'process', 'as', 'cat', 'simply', 'catenates', 'streams', 'of', 'bytes', 'it', 'can', 'be', 'also', 'used', 'to', 'concatenate', 'binary', 'files', 'where', 'it', 'will', 'just', 'concatenate', 'sequence', 'of', 'bytes', 'a', 'common', 'interactive', 'use', 'of', 'cat', 'for', 'a', 'single', 'file', 'is', 'to', 'output', 'the', 'content', 'of', 'a', 'file', 'to', 'standard', 'output', 'cats', 'can', 'hear', 'sounds', 'too', 'faint', 'or', 'too', 'high', 'in', 'frequency', 'for', 'human', 'ears', 'such', 'as', 'those', 'made', 'by', 'mice', 'and', 'other', 'small', 'animals', 'in', 'one', 'people', 'deliberately', 'tamed', 'cats', 'in', 'a', 'process', 'of', 'artificial', 'selection', 'as', 'they', 'were', 'useful', 'predators', 'of', 'vermin', 'the', 'domesticated', 'cat', 'and', 'its', 'closest', 'wild', 'ancestor', 'are', 'both', 'diploid', 'organisms', 'that', 'possess', 'chromosomes', 'and', 'roughly', 'genes', 'domestic', 'cats', 'are', 'similar', 'in', 'size', 'to', 'the', 'other', 'members', 'of', 'the', 'genus', 'felis', 'typically', 'weighing', 'between', 'and', 'kg', 'and', 'lb', 'however', 'if', 'the', 'output', 'is', 'piped', 'or', 'redirected', 'cat', 'is', 'unnecessary', 'cat', 'with', 'one', 'named', 'file', 'is', 'safer', 'where', 'human', 'error', 'is', 'a', 'concern', 'one', 'wrong', 'use', 'of', 'the', 'default', 'redirection', 'symbol', 'instead', 'of', 'often', 'adjacent', 'on', 'keyboards', 'may', 'permanently', 'delete', 'the', 'file', 'you', 'were', 'just', 'needing', 'to', 'read', 'in', 'terms', 'of', 'legibility', 'a', 'sequence', 'of', 'commands', 'starting', 'with', 'cat', 'and', 'connected', 'by', 'pipes', 'has', 'a', 'clear', 'flow', 'of', 'information', 'cat', 'command', 'is', 'one', 'of', 'the', 'basic', 'commands', 'that', 'you', 'learned', 'when', 'you', 'started', 'in', 'the', 'unix', 'linux', 'world', 'using', 'cat', 'command', 'the', 'lines', 'received', 'from', 'stdin', 'can', 'be', 'redirected', 'to', 'a', 'new', 'file', 'using', 'redirection', 'symbols', 'when', 'you', 'type', 'simply', 'cat', 'command', 'without', 'any', 'arguments', 'it', 'just', 'receives', 'the', 'stdin', 'content', 'and', 'displays', 'it', 'in', 'the', 'stdout', 'leopard', 'was', 'released', 'on', 'october', 'as', 'the', 'successor', 'of', 'tiger', 'version', 'and', 'is', 'available', 'in', 'two', 'editions', 'according', 'to', 'apple', 'leopard', 'contains', 'over', 'changes', 'and', 'enhancements', 'over', 'its', 'predecessor', 'mac', 'os', 'x', 'tiger', 'as', 'of', 'mid', 'some', 'apple', 'computers', 'have', 'firmware', 'factory', 'installed', 'which', 'will', 'no', 'longer', 'allow', 'installation', 'of', 'mac', 'os', 'x', 'leopard', 'since', 'apple', 'moved', 'to', 'using', 'intel', 'processors', 'in', 'their', 'computers', 'the', 'community', 'has', 'developed', 'and', 'now', 'also', 'allows', 'mac', 'os', 'x', 'tiger', 'and', 'later', 'releases', 'to', 'be', 'installed', 'on', 'computers', 'os', 'x', 'mountain', 'lion', 'was', 'released', 'on', 'july', 'for', 'purchase', 'and', 'download', 'through', 'apple', 'mac', 'app', 'store', 'as', 'part', 'of', 'a', 'switch', 'to', 'releasing', 'os', 'x', 'versions', 'online', 'and', 'every', 'year', 'apple', 'has', 'released', 'a', 'small', 'patch', 'for', 'the', 'three', 'most', 'recent', 'versions', 'of', 'safari', 'running', 'on', 'os', 'x', 'yosemite', 'mavericks', 'and', 'mountain', 'lion', 'the', 'mountain', 'lion', 'release', 'marks', 'the', 'second', 'time', 'apple', 'has', 'offered', 'an', 'incremental', 'upgrade', 'rather', 'than', 'releasing', 'a', 'new', 'cat', 'entirely', 'mac', 'os', 'x', 'mountain', 'lion', 'installs', 'in', 'place', 'so', 'you', 'wo', 'need', 'to', 'create', 'a', 'separate', 'disk', 'or', 'run', 'the', 'installation', 'off', 'an', 'external', 'drive', 'the', 'fifth', 'major', 'update', 'to', 'mac', 'os', 'x', 'leopard', 'contains', 'such', 'a', 'mountain', 'of', 'features', 'more', 'than', 'by', 'apple', 'count']\n"
     ]
    },
    {
     "name": "stderr",
     "output_type": "stream",
     "text": [
      "[nltk_data] Downloading package punkt to\n[nltk_data]     C:\\Users\\Sergey\\AppData\\Roaming\\nltk_data...\n[nltk_data]   Package punkt is already up-to-date!\n"
     ]
    }
   ],
   "source": [
    "import nltk\n",
    "nltk.download('punkt')\n",
    "tokens = nltk.word_tokenize(sents)\n",
    "tokens = [word for word in tokens if word.isalpha()]\n",
    "print(tokens)"
   ]
  },
  {
   "cell_type": "code",
   "execution_count": 14,
   "metadata": {},
   "outputs": [
    {
     "name": "stdout",
     "output_type": "stream",
     "text": [
      "Counter({'the': 20, 'of': 19, 'and': 14, 'to': 13, 'a': 13, 'in': 11, 'cat': 10, 'os': 8, 'x': 8, 'is': 7, 'apple': 7, 'as': 6, 'mac': 6, 'file': 5, 'on': 5, 'you': 5, 'mountain': 5, 'cats': 4, 'it': 4, 'for': 4, 'one': 4, 'has': 4, 'leopard': 4, 'lion': 4, 'can': 3, 'be': 3, 'just': 3, 'output': 3, 'or': 3, 'by': 3, 'command': 3, 'using': 3, 'released': 3, 'tiger': 3, 'computers': 3, 'have': 2, 'major': 2, 'changes': 2, 'process': 2, 'simply': 2, 'bytes': 2, 'also': 2, 'concatenate': 2, 'where': 2, 'will': 2, 'sequence': 2, 'use': 2, 'content': 2, 'too': 2, 'human': 2, 'such': 2, 'other': 2, 'small': 2, 'were': 2, 'its': 2, 'are': 2, 'that': 2, 'redirected': 2, 'with': 2, 'redirection': 2, 'commands': 2, 'when': 2, 'stdin': 2, 'new': 2, 'was': 2, 'contains': 2, 'over': 2, 'installed': 2, 'installation': 2, 'releasing': 2, 'versions': 2, 'an': 2, 'than': 2, 'comparison': 1, 'dogs': 1, 'not': 1, 'undergone': 1, 'during': 1, 'domestication': 1, 'catenates': 1, 'streams': 1, 'used': 1, 'binary': 1, 'files': 1, 'common': 1, 'interactive': 1, 'single': 1, 'standard': 1, 'hear': 1, 'sounds': 1, 'faint': 1, 'high': 1, 'frequency': 1, 'ears': 1, 'those': 1, 'made': 1, 'mice': 1, 'animals': 1, 'people': 1, 'deliberately': 1, 'tamed': 1, 'artificial': 1, 'selection': 1, 'they': 1, 'useful': 1, 'predators': 1, 'vermin': 1, 'domesticated': 1, 'closest': 1, 'wild': 1, 'ancestor': 1, 'both': 1, 'diploid': 1, 'organisms': 1, 'possess': 1, 'chromosomes': 1, 'roughly': 1, 'genes': 1, 'domestic': 1, 'similar': 1, 'size': 1, 'members': 1, 'genus': 1, 'felis': 1, 'typically': 1, 'weighing': 1, 'between': 1, 'kg': 1, 'lb': 1, 'however': 1, 'if': 1, 'piped': 1, 'unnecessary': 1, 'named': 1, 'safer': 1, 'error': 1, 'concern': 1, 'wrong': 1, 'default': 1, 'symbol': 1, 'instead': 1, 'often': 1, 'adjacent': 1, 'keyboards': 1, 'may': 1, 'permanently': 1, 'delete': 1, 'needing': 1, 'read': 1, 'terms': 1, 'legibility': 1, 'starting': 1, 'connected': 1, 'pipes': 1, 'clear': 1, 'flow': 1, 'information': 1, 'basic': 1, 'learned': 1, 'started': 1, 'unix': 1, 'linux': 1, 'world': 1, 'lines': 1, 'received': 1, 'from': 1, 'symbols': 1, 'type': 1, 'without': 1, 'any': 1, 'arguments': 1, 'receives': 1, 'displays': 1, 'stdout': 1, 'october': 1, 'successor': 1, 'version': 1, 'available': 1, 'two': 1, 'editions': 1, 'according': 1, 'enhancements': 1, 'predecessor': 1, 'mid': 1, 'some': 1, 'firmware': 1, 'factory': 1, 'which': 1, 'no': 1, 'longer': 1, 'allow': 1, 'since': 1, 'moved': 1, 'intel': 1, 'processors': 1, 'their': 1, 'community': 1, 'developed': 1, 'now': 1, 'allows': 1, 'later': 1, 'releases': 1, 'july': 1, 'purchase': 1, 'download': 1, 'through': 1, 'app': 1, 'store': 1, 'part': 1, 'switch': 1, 'online': 1, 'every': 1, 'year': 1, 'patch': 1, 'three': 1, 'most': 1, 'recent': 1, 'safari': 1, 'running': 1, 'yosemite': 1, 'mavericks': 1, 'release': 1, 'marks': 1, 'second': 1, 'time': 1, 'offered': 1, 'incremental': 1, 'upgrade': 1, 'rather': 1, 'entirely': 1, 'installs': 1, 'place': 1, 'so': 1, 'wo': 1, 'need': 1, 'create': 1, 'separate': 1, 'disk': 1, 'run': 1, 'off': 1, 'external': 1, 'drive': 1, 'fifth': 1, 'update': 1, 'features': 1, 'more': 1, 'count': 1})\n"
     ]
    }
   ],
   "source": [
    "from collections import Counter\n",
    "counter = Counter(tokens)\n",
    "print(counter)\n"
   ]
  },
  {
   "cell_type": "code",
   "execution_count": 52,
   "metadata": {},
   "outputs": [
    {
     "name": "stdout",
     "output_type": "stream",
     "text": [
      "[[1 2 3]\n [4 5 6]]\n"
     ]
    }
   ],
   "source": [
    "import numpy as np\n",
    "a = np.array([[1,2,3]])\n",
    "a = np.append(a,[[4,5,6]],axis=0)\n",
    "print(a)"
   ]
  },
  {
   "cell_type": "code",
   "execution_count": 55,
   "metadata": {},
   "outputs": [],
   "source": [
    "shumatrix = np.array([[]])\n",
    "for line in f:\n",
    "    counts = nltk.word_tokenize(line)\n",
    "    counts = [word for word in counts if word.isalpha()]\n",
    "    counts = [dict(counter).get(word) for word in counts]\n",
    "    print(counts)\n",
    "    shumatrix = np.append(shumatrix,)"
   ]
  },
  {
   "cell_type": "code",
   "execution_count": 48,
   "metadata": {},
   "outputs": [],
   "source": [
    ""
   ]
  },
  {
   "cell_type": "code",
   "execution_count": null,
   "metadata": {},
   "outputs": [],
   "source": []
  }
 ],
 "metadata": {
  "kernelspec": {
   "display_name": "Python 2",
   "language": "python",
   "name": "python2"
  },
  "language_info": {
   "codemirror_mode": {
    "name": "ipython",
    "version": 2
   },
   "file_extension": ".py",
   "mimetype": "text/x-python",
   "name": "python",
   "nbconvert_exporter": "python",
   "pygments_lexer": "ipython2",
   "version": "2.7.6"
  }
 },
 "nbformat": 4,
 "nbformat_minor": 0
}
